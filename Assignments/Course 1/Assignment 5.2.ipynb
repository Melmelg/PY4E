{
 "cells": [
  {
   "cell_type": "code",
   "execution_count": 1,
   "metadata": {},
   "outputs": [
    {
     "name": "stdout",
     "output_type": "stream",
     "text": [
      "Type a number:7\n",
      "Type a number:2\n",
      "Type a number:bob\n",
      "Invalid input\n",
      "Type a number:10\n",
      "Type a number:4\n",
      "Type a number:done\n",
      "Maximum is 10\n",
      "Minimum is 2\n"
     ]
    }
   ],
   "source": [
    "#5.2 Write a program that repeatedly prompts a user for integer numbers until the user enters 'done'. \n",
    "#Once 'done' is entered, print out the largest and smallest of the numbers. \n",
    "#If the user enters anything other than a valid number catch it with a try/except and put out an appropriate message and ignore the number. \n",
    "#Enter 7, 2, bob, 10, and 4 and match the output below.\n",
    "\n",
    "min = None\n",
    "max = None\n",
    "\n",
    "while True:\n",
    "    try:\n",
    "        i = input(\"Type a number:\")\n",
    "        if i == \"done\": \n",
    "            break\n",
    "        else:\n",
    "            i = int(i)\n",
    "            if min == None:\n",
    "                min = i\n",
    "                max = i\n",
    "            elif i < min:\n",
    "                min = i\n",
    "            elif i > max:\n",
    "                max = i\n",
    "    except:\n",
    "        print(\"Invalid input\")\n",
    "\n",
    "print(\"Maximum is\", max)\n",
    "print(\"Minimum is\", min)"
   ]
  },
  {
   "cell_type": "code",
   "execution_count": null,
   "metadata": {},
   "outputs": [],
   "source": []
  }
 ],
 "metadata": {
  "kernelspec": {
   "display_name": "Python 3",
   "language": "python",
   "name": "python3"
  },
  "language_info": {
   "codemirror_mode": {
    "name": "ipython",
    "version": 3
   },
   "file_extension": ".py",
   "mimetype": "text/x-python",
   "name": "python",
   "nbconvert_exporter": "python",
   "pygments_lexer": "ipython3",
   "version": "3.7.4"
  }
 },
 "nbformat": 4,
 "nbformat_minor": 2
}
