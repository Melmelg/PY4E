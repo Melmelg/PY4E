{
 "cells": [
  {
   "cell_type": "code",
   "execution_count": 3,
   "metadata": {},
   "outputs": [
    {
     "name": "stdout",
     "output_type": "stream",
     "text": [
      "Enter file name: mbox-short.txt\n",
      "Line Count 27\n",
      "Average Spam Confidence 0.7507185185185187\n"
     ]
    }
   ],
   "source": [
    "#7.2 Write a program that prompts for a file name, then opens that file and reads through the file, looking for lines of the form:\n",
    "#X-DSPAM-Confidence:    0.8475\n",
    "#Count these lines and extract the floating point values from each of the lines and compute the average of those values and produce an output as shown below. \n",
    "#Do not use the sum() function or a variable named sum in your solution.\n",
    "#You can download the sample data at http://www.py4e.com/code3/mbox-short.txt when you are testing below enter mbox-short.txt as the file name.\n",
    "\n",
    "while True:\n",
    "    fname = input(\"Enter file name: \")\n",
    "    try:\n",
    "        fh = open(fname)\n",
    "        break\n",
    "    except:\n",
    "        print(\"File not found\", fname)\n",
    "        continue\n",
    "        \n",
    "num = 0\n",
    "total = 0\n",
    "count = 0\n",
    "\n",
    "for line in fh:\n",
    "    if not line.startswith(\"X-DSPAM-Confidence:\") : continue\n",
    "    count = count + 1\n",
    "    num = float(line[21:])\n",
    "    total = num + total\n",
    "\n",
    "answer = total / count\n",
    "\n",
    "print(\"Line Count\", count)\n",
    "print(\"Average Spam Confidence\", answer)\n",
    "\n",
    "\n"
   ]
  },
  {
   "cell_type": "code",
   "execution_count": null,
   "metadata": {},
   "outputs": [],
   "source": []
  }
 ],
 "metadata": {
  "kernelspec": {
   "display_name": "Python 3",
   "language": "python",
   "name": "python3"
  }
 },
 "nbformat": 4,
 "nbformat_minor": 2
}
