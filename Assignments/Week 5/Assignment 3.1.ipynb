{
 "cells": [
  {
   "cell_type": "code",
   "execution_count": 1,
   "metadata": {},
   "outputs": [
    {
     "name": "stdout",
     "output_type": "stream",
     "text": [
      "Enter Hours:45\n",
      "Enter Rates:10.5\n",
      "Your gross pay is: 498.75\n"
     ]
    }
   ],
   "source": [
    "#Write a program to prompt the user for hours and rate per hour using input to compute gross pay. \n",
    "#Pay the hourly rate for the hours up to 40 and 1.5 times the hourly rate\n",
    "# for all hours worked above 40 hours. \n",
    "#Use 45 hours and a rate of 10.50 per hour to test the program (the pay should be 498.75). \n",
    "#You should use input to read a string and float() to convert the string to a number.\n",
    "\n",
    "hrs = input(\"Enter Hours:\")\n",
    "h = float(hrs)\n",
    "rate = input(\"Enter Rates:\")\n",
    "r = float(rate)\n",
    "\n",
    "if h <= 40:\n",
    "    pay = h*r\n",
    "elif h> 40:\n",
    "    pay = 40*r + (h-40)*r*1.5\n",
    "print(\"Your gross pay is:\", pay)"
   ]
  },
  {
   "cell_type": "code",
   "execution_count": null,
   "metadata": {},
   "outputs": [],
   "source": []
  }
 ],
 "metadata": {
  "kernelspec": {
   "display_name": "Python 3",
   "language": "python",
   "name": "python3"
  },
  "language_info": {
   "codemirror_mode": {
    "name": "ipython",
    "version": 3
   },
   "file_extension": ".py",
   "mimetype": "text/x-python",
   "name": "python",
   "nbconvert_exporter": "python",
   "pygments_lexer": "ipython3",
   "version": "3.7.4"
  }
 },
 "nbformat": 4,
 "nbformat_minor": 2
}
