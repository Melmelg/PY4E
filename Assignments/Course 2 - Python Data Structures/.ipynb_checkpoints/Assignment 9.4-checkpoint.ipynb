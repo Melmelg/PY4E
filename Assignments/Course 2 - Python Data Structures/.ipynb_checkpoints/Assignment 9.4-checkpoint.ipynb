{
 "cells": [
  {
   "cell_type": "code",
   "execution_count": 4,
   "metadata": {},
   "outputs": [
    {
     "name": "stdout",
     "output_type": "stream",
     "text": [
      "Enter file name: \n",
      "cwen@iupui.edu 5\n"
     ]
    }
   ],
   "source": [
    "#9.4 Write a program to read through the mbox-short.txt \n",
    "#and figure out who has sent the greatest number of mail messages. \n",
    "#The program looks for 'From ' lines and takes the second word of \n",
    "#those lines as the person who sent the mail. \n",
    "#The program creates a Python dictionary that maps the sender's mail \n",
    "#address to a count of the number of times they appear in the file. \n",
    "#After the dictionary is produced, the program reads through the dictionary \n",
    "#using a maximum loop to find the most prolific committer.\n",
    "\n",
    "fname = input(\"Enter file name: \")\n",
    "if len(fname) < 1 : fname = \"mbox-short.txt\"\n",
    "fh = open(fname)\n",
    "count = dict()\n",
    "\n",
    "for line in fh:\n",
    "    word = line.split()\n",
    "    if line.startswith(\"From \"):\n",
    "        count[word[1]] = count.get(word[1],0) + 1\n",
    "\n",
    "largest = 0\n",
    "email = \"\"\n",
    "for k in count:\n",
    "    if count[k] > largest:\n",
    "        largest = count[k]\n",
    "        email = k \n",
    "print(email, largest)\n"
   ]
  },
  {
   "cell_type": "code",
   "execution_count": null,
   "metadata": {},
   "outputs": [],
   "source": []
  }
 ],
 "metadata": {
  "kernelspec": {
   "display_name": "Python 3",
   "language": "python",
   "name": "python3"
  },
  "language_info": {
   "codemirror_mode": {
    "name": "ipython",
    "version": 3
   },
   "file_extension": ".py",
   "mimetype": "text/x-python",
   "name": "python",
   "nbconvert_exporter": "python",
   "pygments_lexer": "ipython3",
   "version": "3.7.4"
  }
 },
 "nbformat": 4,
 "nbformat_minor": 2
}
