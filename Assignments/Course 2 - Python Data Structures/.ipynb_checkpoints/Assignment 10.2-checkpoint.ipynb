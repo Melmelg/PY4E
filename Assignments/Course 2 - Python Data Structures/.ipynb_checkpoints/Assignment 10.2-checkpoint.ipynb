{
 "cells": [
  {
   "cell_type": "code",
   "execution_count": 23,
   "metadata": {},
   "outputs": [
    {
     "name": "stdout",
     "output_type": "stream",
     "text": [
      "Enter file name: mbox-short.txt\n",
      "04 3\n",
      "06 1\n",
      "07 1\n",
      "09 2\n",
      "10 3\n",
      "11 6\n",
      "14 1\n",
      "15 2\n",
      "16 4\n",
      "17 2\n",
      "18 1\n",
      "19 1\n"
     ]
    }
   ],
   "source": [
    "#10.2 Write a program to read through the mbox-short.txt and figure out the distribution \n",
    "#by hour of the day for each of the messages. You can pull the hour out from the 'From ' \n",
    "#line by finding the time and then splitting the string a second time using a colon.\n",
    "#From stephen.marquard@uct.ac.za Sat Jan  5 09:14:16 2008\n",
    "#Once you have accumulated the counts for each hour, print out the counts, \n",
    "#sorted by hour as shown below.\n",
    "\n",
    "\n",
    "fname = input(\"Enter file name: \")\n",
    "fh = open(fname)\n",
    "count = dict()\n",
    "\n",
    "for line in fh:\n",
    "    word = line.split()\n",
    "    if len(word) > 2 and word[0] == \"From\" :\n",
    "        count[word[5][0:2]] = count.get(word[5][0:2],0) + 1\n",
    "\n",
    "for k, v in sorted(count.items()):\n",
    "\n",
    "    print (k,v)"
   ]
  },
  {
   "cell_type": "code",
   "execution_count": null,
   "metadata": {},
   "outputs": [],
   "source": []
  }
 ],
 "metadata": {
  "kernelspec": {
   "display_name": "Python 3",
   "language": "python",
   "name": "python3"
  },
  "language_info": {
   "codemirror_mode": {
    "name": "ipython",
    "version": 3
   },
   "file_extension": ".py",
   "mimetype": "text/x-python",
   "name": "python",
   "nbconvert_exporter": "python",
   "pygments_lexer": "ipython3",
   "version": "3.7.4"
  }
 },
 "nbformat": 4,
 "nbformat_minor": 2
}
