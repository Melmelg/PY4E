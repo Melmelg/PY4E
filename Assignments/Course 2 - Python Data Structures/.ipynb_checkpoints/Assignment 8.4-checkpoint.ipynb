{
 "cells": [
  {
   "cell_type": "code",
   "execution_count": 6,
   "metadata": {},
   "outputs": [
    {
     "name": "stdout",
     "output_type": "stream",
     "text": [
      "Enter file name: romeo.txt\n",
      "['Arise', 'But', 'It', 'Juliet', 'Who', 'already', 'and', 'breaks', 'east', 'envious', 'fair', 'grief', 'is', 'kill', 'light', 'moon', 'pale', 'sick', 'soft', 'sun', 'the', 'through', 'what', 'window', 'with', 'yonder']\n"
     ]
    }
   ],
   "source": [
    "#8.4 Open the file romeo.txt and read it line by line. \n",
    "#For each line, split the line into a list of words using the split() method. \n",
    "#The program should build a list of words. \n",
    "#For each word on each line check to see if the word is already in the list and if not append it to the list. \n",
    "#When the program completes, sort and print the resulting words in alphabetical order.\n",
    "#You can download the sample data at http://www.py4e.com/code3/romeo.txt\n",
    "\n",
    "\n",
    "fname = input(\"Enter file name: \")\n",
    "fh = open(fname)\n",
    "lst = list()\n",
    "\n",
    "for line in fh:\n",
    "    word = line.split()\n",
    "    for words in word:\n",
    "        if words in lst:\n",
    "            continue\n",
    "        else :\n",
    "            lst.append(words)\n",
    "lst.sort()\n",
    "print(lst)"
   ]
  },
  {
   "cell_type": "code",
   "execution_count": null,
   "metadata": {},
   "outputs": [],
   "source": []
  }
 ],
 "metadata": {
  "kernelspec": {
   "display_name": "Python 3",
   "language": "python",
   "name": "python3"
  },
  "language_info": {
   "codemirror_mode": {
    "name": "ipython",
    "version": 3
   },
   "file_extension": ".py",
   "mimetype": "text/x-python",
   "name": "python",
   "nbconvert_exporter": "python",
   "pygments_lexer": "ipython3",
   "version": "3.7.4"
  }
 },
 "nbformat": 4,
 "nbformat_minor": 2
}
