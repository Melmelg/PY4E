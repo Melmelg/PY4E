{
 "cells": [
  {
   "cell_type": "code",
   "execution_count": 1,
   "metadata": {},
   "outputs": [
    {
     "name": "stdout",
     "output_type": "stream",
     "text": [
      "Enter Hours worked:45\n",
      "Enter Rate10.5\n",
      "498.75\n"
     ]
    }
   ],
   "source": [
    "#Write a program to prompt the user for hours and rate per hour using input to compute gross pay. \n",
    "#Pay should be the normal rate for hours up to 40 and time-and-a-half for the hourly rate for all hours worked \n",
    "#above 40 hours. Put the logic to do the computation of pay in a function called computepay() \n",
    "#and use the function to do the computation. The function should return a value. \n",
    "#Use 45 hours and a rate of 10.50 per hour to test the program (the pay should be 498.75). \n",
    "#You should use input to read a string and float() to convert the string to a number. \n",
    "#Do not worry about error checking the user input unless you want to - you can assume the user types numbers properly. \n",
    "#Do not name your variable sum or use the sum() function.\n",
    "\n",
    "def computepay(h,r):\n",
    "    if h > 40:\n",
    "        return (40*r)+(h-40)*(r*1.5)\n",
    "    else:\n",
    "        return h*r\n",
    "\n",
    "h = float(input(\"Enter Hours worked:\"))\n",
    "r = float(input(\"Enter Rate\"))\n",
    "\n",
    "p = computepay(h,r)\n",
    "print(p)"
   ]
  },
  {
   "cell_type": "code",
   "execution_count": null,
   "metadata": {},
   "outputs": [],
   "source": []
  }
 ],
 "metadata": {
  "kernelspec": {
   "display_name": "Python 3",
   "language": "python",
   "name": "python3"
  },
  "language_info": {
   "codemirror_mode": {
    "name": "ipython",
    "version": 3
   },
   "file_extension": ".py",
   "mimetype": "text/x-python",
   "name": "python",
   "nbconvert_exporter": "python",
   "pygments_lexer": "ipython3",
   "version": "3.7.4"
  }
 },
 "nbformat": 4,
 "nbformat_minor": 2
}
