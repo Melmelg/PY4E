{
 "cells": [
  {
   "cell_type": "code",
   "execution_count": 1,
   "metadata": {},
   "outputs": [
    {
     "name": "stdout",
     "output_type": "stream",
     "text": [
      "Enter Score between 0 and 1:0.85\n",
      "B\n"
     ]
    }
   ],
   "source": [
    "#3.3 Write a program to prompt for a score between 0.0 and 1.0. If the score is out of range, print an error. \n",
    "#If the score is between 0.0 and 1.0, print a grade using the following table:\n",
    "#Score Grade\n",
    "#>= 0.9 A\n",
    "#>= 0.8 B\n",
    "#>= 0.7 C\n",
    "#>= 0.6 D\n",
    "#< 0.6 F\n",
    "#If the user enters a value out of range, print a suitable error message and exit. For the test, enter a score of 0.85.\n",
    "\n",
    "score = input(\"Enter Score between 0 and 1:\")\n",
    "try: \n",
    "    score = float(score)\n",
    "\n",
    "    if score >= 0.9 and score <= 1.0:\n",
    "        print(\"A\")\n",
    "    elif score >= 0.8 and score <= 0.9:\n",
    "        print(\"B\")\n",
    "    elif score >= 0.7 and score <= 0.8:\n",
    "        print(\"C\")\n",
    "    elif score >= 0.6 and score <= 0.7:\n",
    "        print(\"D\")\n",
    "    elif score < 0.6 and score >= 0:\n",
    "        print (\"F\")\n",
    "    else: \n",
    "        print(\"Error. Enter a number between 0 and 1.0.\")\n",
    "except:\n",
    "    print(\"Error. Enter a number between 0 and 1.0.\")\n",
    "    "
   ]
  },
  {
   "cell_type": "code",
   "execution_count": null,
   "metadata": {},
   "outputs": [],
   "source": []
  }
 ],
 "metadata": {
  "kernelspec": {
   "display_name": "Python 3",
   "language": "python",
   "name": "python3"
  },
  "language_info": {
   "codemirror_mode": {
    "name": "ipython",
    "version": 3
   },
   "file_extension": ".py",
   "mimetype": "text/x-python",
   "name": "python",
   "nbconvert_exporter": "python",
   "pygments_lexer": "ipython3",
   "version": "3.7.4"
  }
 },
 "nbformat": 4,
 "nbformat_minor": 2
}
